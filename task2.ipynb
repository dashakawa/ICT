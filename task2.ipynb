{
 "cells": [
  {
   "cell_type": "code",
   "execution_count": null,
   "metadata": {},
   "outputs": [],
   "source": [
    "Ex-1\n",
    "x1 = int(input())\n",
    "y1 = int(input())\n",
    "x2 = int(input())\n",
    "y2 = int(input())\n",
    "if x1 == x2 or y1 == y2:\n",
    "    print(\"YES\")\n",
    "else:\n",
    "    print(\"NO\")"
   ]
  },
  {
   "cell_type": "code",
   "execution_count": null,
   "metadata": {},
   "outputs": [],
   "source": [
    "Ex-2\n",
    "x1 = int(input())\n",
    "y1 = int(input())\n",
    "x2 = int(input())\n",
    "y2 = int(input())\n",
    "\n",
    "if abs(x1 - x2) <= 1 and abs(y1 - y2) <= 1:\n",
    "    print(\"YES\")\n",
    "else:\n",
    "    print(\"NO\")"
   ]
  },
  {
   "cell_type": "code",
   "execution_count": null,
   "metadata": {},
   "outputs": [],
   "source": [
    "Ex-3\n",
    "x1 = int(input())\n",
    "y1 = int(input())\n",
    "x2 = int(input())\n",
    "y2 = int(input())\n",
    "if abs(x1 - x2) == abs(y1 - y2):\n",
    "    print(\"YES\")\n",
    "else: \n",
    "    print(\"NO\")"
   ]
  },
  {
   "cell_type": "code",
   "execution_count": null,
   "metadata": {},
   "outputs": [],
   "source": [
    "Ex-4\n",
    "x1 = int(input())\n",
    "y1 = int(input())\n",
    "x2 = int(input())\n",
    "y2 = int(input())\n",
    "\n",
    "\n",
    "if x1 == x2 or y1 == y2 or abs(x1 - x2) == abs(y1 - y2):\n",
    "    print(\"YES\")\n",
    "else:\n",
    "    print(\"NO\")"
   ]
  },
  {
   "cell_type": "code",
   "execution_count": null,
   "metadata": {},
   "outputs": [],
   "source": [
    "Ex-5\n",
    "x1 = int(input())\n",
    "y1 = int(input())\n",
    "x2 = int(input())\n",
    "y2 = int(input())\n",
    "    \n",
    "    \n",
    "    \n",
    "    \n",
    "if x2 == x1 - 1 and y2 == y1 - 2:\n",
    "    print(\"YES\")\n",
    "elif x2 == x1 - 2 and y2 == y1 - 1:\n",
    "    print(\"YES\")\n",
    "\n",
    "elif x2 == x1 - 2 and y2 == y1 + 1:\n",
    "     print(\"YES\")\n",
    "elif x2 == x1 - 1 and y2 == y1 + 2:\n",
    "    print(\"YES\")\n",
    "    \n",
    "elif x2 == x1 + 1 and y2 == y1 - 2:\n",
    "    print(\"YES\")\n",
    "elif x2 == x1 + 2 and y2 == y1 - 1:\n",
    "    print(\"YES\")\n",
    "    \n",
    "elif x2 == x1 + 1 and y2 == y1 + 2:\n",
    "    print(\"YES\")\n",
    "elif x2 == x1 + 2 and y2 == y1 + 1:\n",
    "    print(\"YES\")\n",
    "\n",
    "else:\n",
    "    print(\"NO\")"
   ]
  },
  {
   "cell_type": "code",
   "execution_count": null,
   "metadata": {},
   "outputs": [],
   "source": [
    "Ex-6\n",
    "n = int(input())\n",
    "m = int(input())\n",
    "k = int(input())\n",
    "i = 0\n",
    "if (k % n == 0 and k // n < m) or (k % m == 0 and k // m < n):\n",
    "    print(\"YES\")\n",
    "else:\n",
    "    print(\"NO\")\n",
    "    "
   ]
  },
  {
   "cell_type": "code",
   "execution_count": null,
   "metadata": {},
   "outputs": [],
   "source": [
    "Ex-9\n",
    "x1 = int(input())\n",
    "y1 = int(input())\n",
    "z1 = int(input())\n",
    "\n",
    "x2 = int(input())\n",
    "y2 = int(input())\n",
    "z2 = int(input())\n",
    "\n",
    "if x1 * y1 * z1 == x2 * y2 * z2:\n",
    "    print(\"Boxes are equal\")\n",
    "if x1 * y1 * z1 < x2 * y2 * z2:\n",
    "    print(\"the first box is smaller than the second one\")\n",
    "if x1 * y1 * z1 > x2 * y2 * z2:\n",
    "    print(\"the first box is largest than the second one\")\n"
   ]
  },
  {
   "cell_type": "code",
   "execution_count": null,
   "metadata": {},
   "outputs": [],
   "source": [
    "Ex-8\n",
    "x = int(input())\n",
    "y = int(input())\n",
    "z = int(input())\n",
    "if x >= y and x >= z and y >= z:\n",
    "    print(z, y, x)\n",
    "elif x <= y and x >= z and y >= z:\n",
    "    print(z, x, y)\n",
    "elif x <= y and x <= z and y <= z:\n",
    "    print(x, y, c)\n",
    "elif x >= y and x >= z and y <= z:\n",
    "    print(y, z, x)\n",
    "elif x >=y and a <= z and b <= z:\n",
    "    print(y, x, z)\n",
    "else:\n",
    "    print(x, z, y)\n",
    "    "
   ]
  },
  {
   "cell_type": "code",
   "execution_count": null,
   "metadata": {},
   "outputs": [],
   "source": [
    "Ex-10\n",
    "a = int(input())\n",
    "\n",
    "for i in range(1, a):\n",
    "    if i * i <= a:\n",
    "        print(i * i)"
   ]
  },
  {
   "cell_type": "code",
   "execution_count": null,
   "metadata": {},
   "outputs": [],
   "source": [
    "Ex-11\n",
    "n= int(input())\n",
    "\n",
    "for i in range(2, n):\n",
    "    if n % i == 0:\n",
    "        print(i)\n",
    "        exit(0)"
   ]
  },
  {
   "cell_type": "code",
   "execution_count": null,
   "metadata": {},
   "outputs": [],
   "source": [
    "Ex-12\n",
    "n = int(input())\n",
    "i = 1\n",
    "print(\"1\")\n",
    "while n >= 2**i:\n",
    "    i += 1\n",
    "    print(2**(i-1))"
   ]
  },
  {
   "cell_type": "code",
   "execution_count": null,
   "metadata": {},
   "outputs": [],
   "source": [
    "Ex-13\n",
    "sum = 0\n",
    "e = 1\n",
    "while e != 0:\n",
    "    e = int(input())\n",
    "    sum = e + sum\n",
    "print(sum)"
   ]
  },
  {
   "cell_type": "code",
   "execution_count": null,
   "metadata": {},
   "outputs": [],
   "source": [
    "Ex-15\n",
    "n = int(input(\"Give an n: \"))\n",
    "count = 1\n",
    "fib0 = 0\n",
    "fib1 = 1\n",
    "fibn = 1\n",
    "while fibn<n:\n",
    "    fibn = fib0 + fib1\n",
    "    fib0 = fib1\n",
    "    fib1 = fibn\n",
    "    count = count+1\n",
    "if fibn==n:\n",
    "    print(count)\n",
    "else:\n",
    "    print(-1)\n"
   ]
  },
  {
   "cell_type": "code",
   "execution_count": null,
   "metadata": {},
   "outputs": [],
   "source": [
    "Ex-16\n",
    "max = 0\n",
    "num_max = 0\n",
    "el = -1\n",
    "while el != 0:\n",
    "    el = int(input())\n",
    "    if el > max:\n",
    "        max, num_max = el, 1\n",
    "    elif el == max:\n",
    "        num_max += 1       \n",
    "print(num_max)\n"
   ]
  },
  {
   "cell_type": "code",
   "execution_count": null,
   "metadata": {},
   "outputs": [],
   "source": [
    "Ex-17\n",
    "x = int(input())\n",
    "a = [int(i) for i in input().split()]\n",
    "arr_el = 1\n",
    "for i in range(0, len(a) - 1):\n",
    "    if a[i] != a[i + 1]:\n",
    "        arr_el += 1\n",
    "print(arr_el)\n"
   ]
  },
  {
   "cell_type": "code",
   "execution_count": null,
   "metadata": {},
   "outputs": [],
   "source": [
    "Ex-19\n",
    "x = int(input())\n",
    "a = [int(s) for s in input().split()]\n",
    "cnt = 0\n",
    "for i in range(len(a)):\n",
    "    for j in range(i + 1, len(a)):\n",
    "        if a[i] == a[j]:\n",
    "            cnt += 1\n",
    "print(cnt)\n"
   ]
  }
 ],
 "metadata": {
  "kernelspec": {
   "display_name": "Python 3",
   "language": "python",
   "name": "python3"
  },
  "language_info": {
   "codemirror_mode": {
    "name": "ipython",
    "version": 3
   },
   "file_extension": ".py",
   "mimetype": "text/x-python",
   "name": "python",
   "nbconvert_exporter": "python",
   "pygments_lexer": "ipython3",
   "version": "3.8.3"
  }
 },
 "nbformat": 4,
 "nbformat_minor": 4
}
