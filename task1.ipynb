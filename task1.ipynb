{
 "cells": [
  {
   "cell_type": "code",
   "execution_count": 1,
   "metadata": {},
   "outputs": [
    {
     "name": "stdout",
     "output_type": "stream",
     "text": [
      "Alimbayeva Dariga\n",
      "Mira street 12\n",
      "KZ, Zhezkazgan\n"
     ]
    }
   ],
   "source": [
    "Ex-1\n",
    "print (\"Alimbayeva Dariga\")\n",
    "print (\"Mira street 12\")\n",
    "print (\"KZ, Zhezkazgan\")"
   ]
  },
  {
   "cell_type": "code",
   "execution_count": 2,
   "metadata": {},
   "outputs": [
    {
     "name": "stdout",
     "output_type": "stream",
     "text": [
      "Dasha\n",
      "Hello Dasha\n"
     ]
    }
   ],
   "source": [
    "Ex-2\n",
    "name = input()\n",
    "print (\"Hello \" + name)"
   ]
  },
  {
   "cell_type": "code",
   "execution_count": null,
   "metadata": {},
   "outputs": [],
   "source": [
    "Ex-33\n",
    "a = int(input())\n",
    "print('regular price-', (a * 3.49), '$')\n",
    "print('discount-', (a * 3.49 * 0.6), '$')\n",
    "print('price-', ((a * 3.49) - (a * 3.49 * 0.6)))\n"
   ]
  },
  {
   "cell_type": "code",
   "execution_count": null,
   "metadata": {},
   "outputs": [],
   "source": [
    "Ex-3\n",
    "width = float(input())\n",
    "length = float(input())\n",
    "area = width * length\n",
    "print(\"Area room \" + str(area) + \" m^2\")"
   ]
  },
  {
   "cell_type": "code",
   "execution_count": null,
   "metadata": {},
   "outputs": [],
   "source": [
    "Ex-4\n",
    "width = float(input())\n",
    "length = float(input())\n",
    "area = width * length / 43560\n",
    "print(\"Area \" + str(area) + \" acre\")"
   ]
  },
  {
   "cell_type": "code",
   "execution_count": null,
   "metadata": {},
   "outputs": [],
   "source": [
    "Ex-5\n",
    "a = int(input())\n",
    "b = int(input())\n",
    "c = 0.10* a + 0.25 * b\n",
    "print(f'{c:.2f}',\"$\")"
   ]
  },
  {
   "cell_type": "code",
   "execution_count": null,
   "metadata": {},
   "outputs": [],
   "source": [
    "Ex-6\n",
    "a = int(input())\n",
    "tax = float(a/10)\n",
    "tip = float(a*0.18)\n",
    "overall = a + tax + tip\n",
    "print(\"Tax:\",f'{tax:.2f}')\n",
    "print(\"Tip:\",f'{tip:.2f}')\n",
    "print(\"Overall:\",f'{overall:.2f}')"
   ]
  },
  {
   "cell_type": "code",
   "execution_count": null,
   "metadata": {},
   "outputs": [],
   "source": [
    "Ex-7\n",
    "n = int(input())\n",
    "sum = 0\n",
    "for x in range(1,n+1):\n",
    "    sum+=x\n",
    "print(sum)"
   ]
  },
  {
   "cell_type": "code",
   "execution_count": null,
   "metadata": {},
   "outputs": [],
   "source": [
    "Ex-8\n",
    "widget = int(input())\n",
    "gizmos = int(input())\n",
    "mass = widget* 75 + gizmo * 112\n",
    "if mass > 1000:\n",
    "    print(\"Total Mass:\", f'{mass/1000:.3f}',\"kg\")\n",
    "else:\n",
    "    print(\"Total Mass:\", mass,\"g\")"
   ]
  },
  {
   "cell_type": "code",
   "execution_count": null,
   "metadata": {},
   "outputs": [],
   "source": [
    "Ex-9\n",
    "balance = int(input())\n",
    "print(\"Balance after 1 year:\",f'{balance*1.04:.2f}')\n",
    "print(\"Balance after 2 year:\",f'{balance*(1.04**2):.2f}')\n",
    "print(\"Balance after 3 year:\",f'{balance*(1.04**3):.2f}')"
   ]
  },
  {
   "cell_type": "code",
   "execution_count": null,
   "metadata": {},
   "outputs": [],
   "source": [
    "Ex-10\n",
    "import math\n",
    "a = int(input())\n",
    "b = int(input())\n",
    "print(a+b)\n",
    "print(a-b)\n",
    "print(a*b)\n",
    "print(int(a/b))\n",
    "print(a%b)\n",
    "print(math.log10(a))\n",
    "print(a*b)\n"
   ]
  },
  {
   "cell_type": "code",
   "execution_count": null,
   "metadata": {},
   "outputs": [],
   "source": [
    "Ex-11\n",
    "print(\"MPG:\")\n",
    "mpg = int(input())\n",
    "kanFEN = float((mpg * 3.75541) / 1.60934)\n",
    "print(f'{kanFEN/100:.2f}',\"L/100km\")"
   ]
  },
  {
   "cell_type": "code",
   "execution_count": null,
   "metadata": {},
   "outputs": [],
   "source": [
    "Ex-12\n",
    "import math\n",
    "pi = 3.14\n",
    "a = int(input())\n",
    "a1 = int(input())\n",
    "b = int(input())\n",
    "b1 = int(input())\n",
    "A = (float(a/180)) * pi\n",
    "A1 = (float(a1/180)) * pi\n",
    "B = (float(b/180)) * pi\n",
    "B1 = (float(b1/180)) * pi\n",
    "Distance = 6371.1 * math.acos(math.sin(A)*math.sin(B)+math.cos(A)*math.cos(B)*math.cos(A1-B1))\n",
    "print(Distance,\"km\")\n"
   ]
  },
  {
   "cell_type": "code",
   "execution_count": null,
   "metadata": {},
   "outputs": [],
   "source": [
    "Ex-13\n",
    "my_money = int(input())\n",
    "coins = {'Toonies': 200, 'Loonies': 100, 'Quarter': 25, 'Dime': 10, 'Nickel': 5, 'Penny': 1}\n",
    "for m in coins:\n",
    "    print('Number of', m + ':', my_money // coins[m])\n",
    "    my_money %= coins[m]"
   ]
  },
  {
   "cell_type": "code",
   "execution_count": null,
   "metadata": {},
   "outputs": [],
   "source": [
    "Ex-14\n",
    "feet = int(input())\n",
    "inches = int(input())\n",
    "print('In centimeters:', (feet*12 + inches)*2.54)"
   ]
  },
  {
   "cell_type": "code",
   "execution_count": null,
   "metadata": {},
   "outputs": [],
   "source": [
    "Ex-15\n",
    "f = int(input())\n",
    "print(f'In inches: {f*12}, in yards: {f/3}, in miles: {f/5280}')"
   ]
  },
  {
   "cell_type": "code",
   "execution_count": null,
   "metadata": {},
   "outputs": [],
   "source": [
    "Ex-16\n",
    "r = int(input())\n",
    "from math import pi\n",
    "print(f'Area of circle: {pi*r*r}, volume of sphere: {(4*pi*r**3)/3}')"
   ]
  },
  {
   "cell_type": "code",
   "execution_count": null,
   "metadata": {},
   "outputs": [],
   "source": [
    "Ex-17\n",
    "mass = int(input())\n",
    "delta_t = int(input())\n",
    "print('Amount of energy:', mass*4.186*delta_t)\n",
    "print('Price:', mass*4.186*delta_t*8.9/3600000)"
   ]
  },
  {
   "cell_type": "code",
   "execution_count": null,
   "metadata": {},
   "outputs": [],
   "source": [
    "Ex-18\n",
    "pi = 3.14\n",
    "r = float(input())\n",
    "h = float(input())\n",
    "V = pi * h * (r**2)\n",
    "print(f'{V:.1f}',\"m^3\")"
   ]
  },
  {
   "cell_type": "code",
   "execution_count": null,
   "metadata": {},
   "outputs": [],
   "source": [
    "Ex-19\n",
    "Vi = 0\n",
    "a = 9.8\n",
    "d = float(input())\n",
    "vf = 2 * Vi + 2 * a * d\n",
    "print(vf,\"m/sec\")"
   ]
  },
  {
   "cell_type": "code",
   "execution_count": null,
   "metadata": {},
   "outputs": [],
   "source": [
    "Ex-20\n",
    "R = 8.314\n",
    "P = float(input())\n",
    "V = float(input())\n",
    "T = float(input())\n",
    "n = float((P*(V/1000))/(R*(T+273.15)))\n",
    "print(f'{n:.2f}',\"moles\")"
   ]
  },
  {
   "cell_type": "code",
   "execution_count": null,
   "metadata": {},
   "outputs": [],
   "source": [
    "Ex-21\n",
    "b = int(input())\n",
    "h = int(input())\n",
    "area = float((b*h)/2)\n",
    "print(f'{area:.2f}',\"m^2\")"
   ]
  },
  {
   "cell_type": "code",
   "execution_count": null,
   "metadata": {},
   "outputs": [],
   "source": [
    "Ex-22\n",
    "import math\n",
    "s1 = float(input())\n",
    "s2 = float(input())\n",
    "s3 = float(input())\n",
    "s = (s1+s2+s3)/2\n",
    "area = math.sqrt(s*(s-s1)*(s-s2)*(s-s3))\n",
    "print(f'{area:.2f}',\"m^2\")"
   ]
  },
  {
   "cell_type": "code",
   "execution_count": null,
   "metadata": {},
   "outputs": [],
   "source": [
    "Ex-23\n",
    "import math\n",
    "n = float(input())\n",
    "s = float(input())\n",
    "pi = 3.14\n",
    "n1 = (float(n/180))*pi\n",
    "area = (n*(s**2))/(4*math.tan(float(pi/n1)))\n",
    "print(\"area:\",f'{area:.3f}')"
   ]
  },
  {
   "cell_type": "code",
   "execution_count": null,
   "metadata": {},
   "outputs": [],
   "source": [
    "Ex-24\n",
    "Days = int(input())\n",
    "Hours = int(input())\n",
    "Minutes = int(input())\n",
    "Seconds =int(input())\n",
    "print(Seconds+Minutes*60+Hours*60*60+Days+60*60*24,\"sec\")\n"
   ]
  },
  {
   "cell_type": "code",
   "execution_count": null,
   "metadata": {},
   "outputs": [],
   "source": [
    "Ex-25\n",
    "time = int(input())\n",
    "day = time/(24*3600)\n",
    "hour = (time%(24*3600))/3600\n",
    "minutes = ((time%(24*3600))%3600)/60\n",
    "seconds = ((time%(24*3600))%3600)%60\n",
    "print(\"d:h:m:s-> %d:%02d:%02d:%02d\" % (day,hour,minutes,seconds))"
   ]
  },
  {
   "cell_type": "code",
   "execution_count": null,
   "metadata": {},
   "outputs": [],
   "source": [
    "Ex-26\n",
    "import time\n",
    "print(time.asctime())"
   ]
  },
  {
   "cell_type": "code",
   "execution_count": null,
   "metadata": {},
   "outputs": [],
   "source": [
    "Ex-27\n",
    "h = float(input())\n",
    "w = float(input())\n",
    "BMI = float(w/(h**2))\n",
    "print(f'{BMI:.3f}',\"kg/m^2\")"
   ]
  },
  {
   "cell_type": "code",
   "execution_count": null,
   "metadata": {},
   "outputs": [],
   "source": [
    "Ex-28\n",
    "Ta = float(input())\n",
    "V = float(input())\n",
    "wci = 13.12 + 0.6215 * Ta - 11.37 * (V**(0.16)) + 0.3965 * Ta * (V**(0.16))\n",
    "print(round(wci))"
   ]
  },
  {
   "cell_type": "code",
   "execution_count": null,
   "metadata": {},
   "outputs": [],
   "source": [
    "Ex-29\n",
    "n = int(input())\n",
    "print(n+273.15,\"kelvins\")\n",
    "print((n*1.8)+32,\"fahrenheit\")"
   ]
  },
  {
   "cell_type": "code",
   "execution_count": null,
   "metadata": {},
   "outputs": [],
   "source": [
    "Ex-30\n",
    "a = int(input())\n",
    "print('pounds per square inch ', a * 1000 / 6894,75729)\n",
    "\n",
    "print('millimeters of mercury ', a / 133, 132 * 1000)\n",
    "\n",
    "print('atmosphere ', (a * 1000 / 101325))"
   ]
  },
  {
   "cell_type": "code",
   "execution_count": null,
   "metadata": {},
   "outputs": [],
   "source": [
    "Ex-31\n",
    "s = input()\n",
    "sum = 0\n",
    "for i in s:\n",
    "    sum += int(i)\n",
    "print(sum)"
   ]
  },
  {
   "cell_type": "code",
   "execution_count": null,
   "metadata": {},
   "outputs": [],
   "source": [
    "Ex-32\n",
    "s = input().split()\n",
    "a = int(s[0])\n",
    "b = int(s[1])\n",
    "c = int(s[2])\n",
    "print(min(min(a, b), c), ((a + b + c) - max(max(a,b), c) - min(min(a, b), c) ), max(max(a,b), c) )"
   ]
  },
  {
   "cell_type": "code",
   "execution_count": null,
   "metadata": {},
   "outputs": [],
   "source": [
    "Ex-33\n",
    "a = int(input())\n",
    "print('regular price-', (a * 3.49), '$')\n",
    "print('discount-', (a * 3.49 * 0.6), '$')\n",
    "print('price-', ((a * 3.49) - (a * 3.49 * 0.6)))\n"
   ]
  }
 ],
 "metadata": {
  "kernelspec": {
   "display_name": "Python 3",
   "language": "python",
   "name": "python3"
  },
  "language_info": {
   "codemirror_mode": {
    "name": "ipython",
    "version": 3
   },
   "file_extension": ".py",
   "mimetype": "text/x-python",
   "name": "python",
   "nbconvert_exporter": "python",
   "pygments_lexer": "ipython3",
   "version": "3.8.3"
  }
 },
 "nbformat": 4,
 "nbformat_minor": 4
}
